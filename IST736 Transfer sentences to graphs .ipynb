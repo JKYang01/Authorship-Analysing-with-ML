{
 "cells": [
  {
   "cell_type": "code",
   "execution_count": 1,
   "metadata": {},
   "outputs": [],
   "source": [
    "import pandas as pd "
   ]
  },
  {
   "cell_type": "code",
   "execution_count": 151,
   "metadata": {
    "collapsed": true
   },
   "outputs": [
    {
     "name": "stdout",
     "output_type": "stream",
     "text": [
      "  chapter author                                               text\n",
      "0    CH10     RC              My husband eats with a good appetite.\n",
      "1    CH10     RC              But I don t think he s really hungry.\n",
      "2    CH10     RC  He chews arms onthe table and stares at someth...\n",
      "3    CH10     RC                     He looks at me and looks away.\n",
      "4    CH10     RC                   He wipes hismouth on the napkin.\n"
     ]
    }
   ],
   "source": [
    "df_JJ = pd.read_csv(r\"C:\\Users\\wangtao\\Desktop\\data_RC.csv\")\n",
    "print(df_JJ.head())"
   ]
  },
  {
   "cell_type": "code",
   "execution_count": 153,
   "metadata": {},
   "outputs": [
    {
     "name": "stdout",
     "output_type": "stream",
     "text": [
      "My husband eats with a good appetite.\n",
      "2576\n"
     ]
    }
   ],
   "source": [
    "text_JJ = df_JJ['text']\n",
    "graph_JJ = []\n",
    "for line in text_JJ:\n",
    "    graph_JJ.append(line) # 将句子写入列表 \n",
    "    \n",
    "print(graph_JJ[0])\n",
    "print(len(graph_JJ)) #看看有多长\n",
    "\n",
    "        "
   ]
  },
  {
   "cell_type": "code",
   "execution_count": 145,
   "metadata": {
    "collapsed": true
   },
   "outputs": [
    {
     "name": "stdout",
     "output_type": "stream",
     "text": [
      "['The cake the voice said.', 'Sixteen dollars.', 'The husband held the receiver against his ear trying to understand.\"', 'He said \"I don t knowanything about it.', \"Don't hand me that.\", 'the voice said.', 'The husband hung up the telephone.\"', 'He went into the kitchen and poured himself somewhiskey.\"', 'He called the hospital.\"', 'The child\\'s condition remained the same.\"', 'While the water ran into the tub the man lathered his face and shaved.\"', 'He was in the tub whenhe heard the telephone again.\"', 'He got himself out and hurried through the house saying Stupid stupid\"', \" because he wouldn't be doing this if he'd stayed where he was in the hospital.\", 'He picked up the receiver and shouted\"Hello!\"The voice said \"It\\'s ready.', 'THE father got back to the hospital after midnight.', 'The wife was sitting in the chair by the bed.\"', 'She looked up at the husband and then she looked back at the child.\"', 'From an apparatus over thebed hung a bottle with a tube running from the bottle to the child.\"', \"What's this? the father said.\", 'Glucose the mother said.', \"The husband put his hand to the back of the woman's head.\", \"He's going to wake up the man said.\", 'I know the woman said.', 'In a little while the man said \"Go home and let me take over.\"She shook her head.', 'No.she said.']\n"
     ]
    }
   ],
   "source": [
    "## 将 graph_JJ 列表中的元素以五十句为一组\n",
    "## zip() 不用 list() 转换？ python3 zip() http://www.runoob.com/python3/python3-func-zip.html\n",
    "\n",
    "def list_of_sentences(init_list, children_list_len):\n",
    "    list_of_sentence = zip(*(iter(init_list),)*children_list_len)\n",
    "    # iter() https://www.jianshu.com/p/dcf83643deeb  \n",
    "    #init_list为初始化的列表 chilren_list_len 初始化列表中小列表元素数目\n",
    "    #zip(*iterables)As arguments, it can take iterables, we see. \n",
    "    #These can be built-in like the list, string, dict, and user-defined (objects with the __iter__ method).\n",
    "    end_list = [list(i) for i in list_of_sentence]\n",
    "    # list() 方法 将 tuple 元组转化为 list 列表\n",
    "    n = len(init_list)% children_list_len\n",
    "    # % 表示整除取余\n",
    "    end_list.append(init_list[-n:]) if n!=0 else end_list\n",
    "    # 将没有被整除的部分加入 end_list (len(graph_JJ)=3411 不能被35整除 )\n",
    "    return end_list\n",
    "\n",
    "new_list=list_of_sentences(graph_JJ,50)\n",
    "print(new_list[-1])"
   ]
  },
  {
   "cell_type": "code",
   "execution_count": 146,
   "metadata": {
    "collapsed": true
   },
   "outputs": [
    {
     "name": "stdout",
     "output_type": "stream",
     "text": [
      "The cake the voice said.Sixteen dollars.The husband held the receiver against his ear trying to understand.\"He said \"I don t knowanything about it.Don't hand me that.the voice said.The husband hung up the telephone.\"He went into the kitchen and poured himself somewhiskey.\"He called the hospital.\"The child's condition remained the same.\"While the water ran into the tub the man lathered his face and shaved.\"He was in the tub whenhe heard the telephone again.\"He got himself out and hurried through the house saying Stupid stupid\" because he wouldn't be doing this if he'd stayed where he was in the hospital.He picked up the receiver and shouted\"Hello!\"The voice said \"It's ready.THE father got back to the hospital after midnight.The wife was sitting in the chair by the bed.\"She looked up at the husband and then she looked back at the child.\"From an apparatus over thebed hung a bottle with a tube running from the bottle to the child.\"What's this? the father said.Glucose the mother said.The husband put his hand to the back of the woman's head.He's going to wake up the man said.I know the woman said.In a little while the man said \"Go home and let me take over.\"She shook her head.No.she said.\n"
     ]
    }
   ],
   "source": [
    "string_data = []\n",
    "for s in new_list:\n",
    "    string = \"\".join(s)\n",
    "    string_data.append(string)\n",
    "print(string_data[-1])"
   ]
  },
  {
   "cell_type": "code",
   "execution_count": 147,
   "metadata": {},
   "outputs": [
    {
     "name": "stdout",
     "output_type": "stream",
     "text": [
      "  author                                               text\n",
      "0     RC  My husband eats with a good appetite.But I don...\n",
      "1     RC  They have sons and daughters who go toschool w...\n",
      "2     RC  I said.It was then that he told me what I just...\n",
      "3     RC  But it took someexamining it some putting thin...\n",
      "4     RC  I can t think what else to do.Is everything al...\n"
     ]
    }
   ],
   "source": [
    "data = {'author':'RC','text': string_data}\n",
    "df_graph_JJ = pd.DataFrame(data)\n",
    "print(df_graph_JJ.head())\n",
    "\n",
    "with open (r\"C:\\Users\\wangtao\\Desktop\\graph_data_RC.csv\",'w')as f:\n",
    "    df_graph_JJ.to_csv(f)"
   ]
  },
  {
   "cell_type": "markdown",
   "metadata": {},
   "source": [
    "*args and **kwargs are mostly used in function definitions. *args and **kwargs allow you to pass a variable number of arguments to a function. What does variable mean here is that you do not know before hand that how many arguments can be passed to your function by the user so in this case you use these two keywords. *args is used to send a non-keyworded variable length argument list to the function. Here’s an example to help you get a clear idea: https://pythontips.com/2013/08/04/args-and-kwargs-in-python-explained/"
   ]
  },
  {
   "cell_type": "markdown",
   "metadata": {},
   "source": [
    "## split list into sublists with lambda expression "
   ]
  },
  {
   "cell_type": "code",
   "execution_count": 103,
   "metadata": {
    "collapsed": true
   },
   "outputs": [
    {
     "name": "stdout",
     "output_type": "stream",
     "text": [
      "['Little Chandler gave themno thought.', 'He picked his way deftly through all that minute vermin-like life and under the shadowof the gaunt spectral mansions in which the old nobility of Dublin had roystered.', 'No memory ofthe past touched him for his mind was full of a present joy.']\n",
      "[['He had often said to me: \"I am not long for this world \" and I had thought his words idle.', 'Now I knew they were true.', 'Every night as I gazed up at the window I said softly to myself theword paralysis.'], ['It had always sounded strangely in my ears like the word gnomon in the Euclidand the word simony in the Catechism.', 'But now it sounded to me like the name of some maleficentand sinful being.', 'It filled me with fear and yet I longed to be nearer to it and to look upon itsdeadly work.']]\n"
     ]
    }
   ],
   "source": [
    "list_of_sentence = lambda x,y: zip(*(iter(x),)*y)\n",
    "end_list = [list(i) for i in list_of_sentence(graph_JJ,50)] ## 没有将未能整除的余下几句也包括进去\n",
    "#group_adjacent = lambda x, k: list(zip(*([iter(x)] * k)))\n",
    "#other_list = [list(i) for i in group_adjacent(graph_JJ,50)]\n",
    "#print(end_list[-1])\n",
    "#print(other_list[1:3])"
   ]
  },
  {
   "cell_type": "markdown",
   "metadata": {},
   "source": [
    "## Split into groups of words"
   ]
  },
  {
   "cell_type": "code",
   "execution_count": 154,
   "metadata": {},
   "outputs": [
    {
     "name": "stdout",
     "output_type": "stream",
     "text": [
      "['My', 'husband']\n"
     ]
    }
   ],
   "source": [
    "## for the suggestion I will splite the data into groups with 600 words per group\n",
    "unit_JJ = []\n",
    "for line in text_JJ:\n",
    "    word = line.split()\n",
    "    for w in word:\n",
    "        unit_JJ.append(w)\n",
    "print(unit_JJ[0:2]) \n",
    "#len(unit_JJ)"
   ]
  },
  {
   "cell_type": "code",
   "execution_count": 155,
   "metadata": {
    "collapsed": true
   },
   "outputs": [
    {
     "name": "stdout",
     "output_type": "stream",
     "text": [
      "['He', 'waswondering', 'if', 'he', 'should', 'hmsh', 'the', 'rest', 'orcontmue', 'on', 'to', 'school.', 'The', 'birthday', 'boy', 'did', 'not', 'cry.', 'But', 'neither', 'did', 'he', 'wish', 'to', 'talk', 'anymore.', 'He', 'would', 'not', 'answerwhen', 'the', 'other', 'boy', 'asked', 'what', 'it', 'felt', 'like', 'to', 'be', 'hit', 'by', 'a', 'car.', 'The', 'birthday', 'boy', 'got', 'up', 'and', 'turned', 'back', 'for', 'home', 'at', 'which', 'time', 'the', 'other', 'boy', 'waved', 'good-bye', 'and', 'headed', 'off', 'for', 'school.', 'The', 'birthday', 'boy', 'told', 'his', 'mother', 'what', 'had', 'happened.', 'They', 'sat', 'together', 'on', 'the', 'sofa.', 'She', 'heldhis', 'hands', 'in', 'her', 'lap.', 'This', 'is', 'what', 'she', 'was', 'doing', 'when', 'the', 'boy', 'pulled', 'his', 'hands', 'away', 'and', 'lay', 'downon', 'his', 'back.', 'OF', 'course', 'the', 'birthday', 'party', 'never', 'happened.', 'The', 'birthday', 'boy', 'was', 'in', 'the', 'hospital', 'instead.', 'The', 'mother', 'sat', 'by', 'the', 'bed.', 'She', 'was', 'waiting', 'for', 'the', 'boy', 'to', 'wake', 'up.', 'The', 'father', 'hurried', 'over', 'from', 'hisoffice.', 'He', 'sat', 'next', 'to', 'the', 'mother.', 'So', 'now', 'the', 'both', 'of', 'them', 'waited', 'for', 'the', 'boy', 'to', 'wake', 'up.', 'Theywaited', 'for', 'hours', 'and', 'then', 'the', 'father', 'went', 'home', 'to', 'take', 'a', 'bath.', 'The', 'man', 'drove', 'home', 'from', 'the', 'hospital.', 'He', 'drove', 'the', 'streets', 'faster', 'than', 'he', 'should.', 'It', 'had', 'beena', 'good', 'life', 'till', 'now.', 'There', 'had', 'been', 'work', 'fatherhood', 'family.', 'The', 'man', 'had', 'been', 'lucky', 'and', 'happy.', 'But', 'fear', 'made', 'him', 'want', 'a', 'bath.', 'He', 'pulled', 'into', 'the', 'driveway.', 'He', 'sat', 'in', 'the', 'car', 'trying', 'to', 'make', 'his', 'legs', 'work.', 'The', 'child', 'had', 'been', 'hit', 'by', 'a', 'car', 'and', 'he', 'was', 'in', 'the', 'hospital', 'but', 'he', 'was', 'going', 'to', 'be', 'all', 'right.', 'The', 'man', 'got', 'out', 'of', 'the', 'car', 'and', 'went', 'up', 'to', 'the', 'door.', 'The', 'dog', 'was', 'barking', 'and', 'the', 'telephone', 'was', 'ringing.', 'It', 'kept', 'ringing', 'whilethe', 'man', 'unlocked', 'the', 'door', 'and', 'felt', 'the', 'wall', 'for', 'the', 'light', 'switch.', 'He', 'picked', 'up', 'the', 'receiver.', 'He', 'said', '\"I', 'just', 'got', 'in', 'the', 'door!\"There\\'s', 'a', 'cake', 'that', 'wasn', 't', 'picked', 'up.', 'This', 'is', 'what', 'the', 'voice', 'on', 'the', 'other', 'end', 'said.', 'What', 'are', 'you', 'saying?\"\"the', 'father', 'said.\"', 'The', 'cake', 'the', 'voice', 'said.', 'Sixteen', 'dollars.', 'The', 'husband', 'held', 'the', 'receiver', 'against', 'his', 'ear', 'trying', 'to', 'understand.\"', 'He', 'said', '\"I', 'don', 't', 'knowanything', 'about', 'it.', \"Don't\", 'hand', 'me', 'that.', 'the', 'voice', 'said.', 'The', 'husband', 'hung', 'up', 'the', 'telephone.\"', 'He', 'went', 'into', 'the', 'kitchen', 'and', 'poured', 'himself', 'somewhiskey.\"', 'He', 'called', 'the', 'hospital.\"', 'The', \"child's\", 'condition', 'remained', 'the', 'same.\"', 'While', 'the', 'water', 'ran', 'into', 'the', 'tub', 'the', 'man', 'lathered', 'his', 'face', 'and', 'shaved.\"', 'He', 'was', 'in', 'the', 'tub', 'whenhe', 'heard', 'the', 'telephone', 'again.\"', 'He', 'got', 'himself', 'out', 'and', 'hurried', 'through', 'the', 'house', 'saying', 'Stupid', 'stupid\"', 'because', 'he', \"wouldn't\", 'be', 'doing', 'this', 'if', \"he'd\", 'stayed', 'where', 'he', 'was', 'in', 'the', 'hospital.', 'He', 'picked', 'up', 'the', 'receiver', 'and', 'shouted\"Hello!\"The', 'voice', 'said', '\"It\\'s', 'ready.', 'THE', 'father', 'got', 'back', 'to', 'the', 'hospital', 'after', 'midnight.', 'The', 'wife', 'was', 'sitting', 'in', 'the', 'chair', 'by', 'the', 'bed.\"', 'She', 'looked', 'up', 'at', 'the', 'husband', 'and', 'then', 'she', 'looked', 'back', 'at', 'the', 'child.\"', 'From', 'an', 'apparatus', 'over', 'thebed', 'hung', 'a', 'bottle', 'with', 'a', 'tube', 'running', 'from', 'the', 'bottle', 'to', 'the', 'child.\"', \"What's\", 'this?', 'the', 'father', 'said.', 'Glucose', 'the', 'mother', 'said.', 'The', 'husband', 'put', 'his', 'hand', 'to', 'the', 'back', 'of', 'the', \"woman's\", 'head.', \"He's\", 'going', 'to', 'wake', 'up', 'the', 'man', 'said.', 'I', 'know', 'the', 'woman', 'said.', 'In', 'a', 'little', 'while', 'the', 'man', 'said', '\"Go', 'home', 'and', 'let', 'me', 'take', 'over.\"She', 'shook', 'her', 'head.', 'No.she', 'said.']\n"
     ]
    }
   ],
   "source": [
    "def list_of_words(init_list,sub_list_len):\n",
    "    list_of_word = list(zip(*(iter(init_list),)*sub_list_len)) # python3 list(zip()) \n",
    "    end_list = [list(i) for i in list_of_word]\n",
    "    n = len(init_list)% sub_list_len\n",
    "    end_list.append(init_list[-n:]) if n!=0 else end_list\n",
    "    return end_list\n",
    "\n",
    "new_word_list = list_of_words(unit_JJ,600)\n",
    "print(new_word_list[-1])"
   ]
  },
  {
   "cell_type": "code",
   "execution_count": 156,
   "metadata": {
    "collapsed": true
   },
   "outputs": [
    {
     "name": "stdout",
     "output_type": "stream",
     "text": [
      "He waswondering if he should hmsh the rest orcontmue on to school. The birthday boy did not cry. But neither did he wish to talk anymore. He would not answerwhen the other boy asked what it felt like to be hit by a car. The birthday boy got up and turned back for home at which time the other boy waved good-bye and headed off for school. The birthday boy told his mother what had happened. They sat together on the sofa. She heldhis hands in her lap. This is what she was doing when the boy pulled his hands away and lay downon his back. OF course the birthday party never happened. The birthday boy was in the hospital instead. The mother sat by the bed. She was waiting for the boy to wake up. The father hurried over from hisoffice. He sat next to the mother. So now the both of them waited for the boy to wake up. Theywaited for hours and then the father went home to take a bath. The man drove home from the hospital. He drove the streets faster than he should. It had beena good life till now. There had been work fatherhood family. The man had been lucky and happy. But fear made him want a bath. He pulled into the driveway. He sat in the car trying to make his legs work. The child had been hit by a car and he was in the hospital but he was going to be all right. The man got out of the car and went up to the door. The dog was barking and the telephone was ringing. It kept ringing whilethe man unlocked the door and felt the wall for the light switch. He picked up the receiver. He said \"I just got in the door!\"There's a cake that wasn t picked up. This is what the voice on the other end said. What are you saying?\"\"the father said.\" The cake the voice said. Sixteen dollars. The husband held the receiver against his ear trying to understand.\" He said \"I don t knowanything about it. Don't hand me that. the voice said. The husband hung up the telephone.\" He went into the kitchen and poured himself somewhiskey.\" He called the hospital.\" The child's condition remained the same.\" While the water ran into the tub the man lathered his face and shaved.\" He was in the tub whenhe heard the telephone again.\" He got himself out and hurried through the house saying Stupid stupid\" because he wouldn't be doing this if he'd stayed where he was in the hospital. He picked up the receiver and shouted\"Hello!\"The voice said \"It's ready. THE father got back to the hospital after midnight. The wife was sitting in the chair by the bed.\" She looked up at the husband and then she looked back at the child.\" From an apparatus over thebed hung a bottle with a tube running from the bottle to the child.\" What's this? the father said. Glucose the mother said. The husband put his hand to the back of the woman's head. He's going to wake up the man said. I know the woman said. In a little while the man said \"Go home and let me take over.\"She shook her head. No.she said.\n"
     ]
    }
   ],
   "source": [
    "string_word_data = []\n",
    "for s in new_word_list:\n",
    "    string_word = \" \".join(s) #jion with space \" \" cause it has been splited into words\n",
    "    string_word_data.append(string_word)\n",
    "print(string_word_data[-1])"
   ]
  },
  {
   "cell_type": "code",
   "execution_count": 157,
   "metadata": {},
   "outputs": [
    {
     "name": "stdout",
     "output_type": "stream",
     "text": [
      "  author                                               text\n",
      "0     RC  My husband eats with a good appetite. But I do...\n",
      "1     RC  her into shore. He gotsome nylon cord and tied...\n",
      "2     RC  eyes open face down staring at the moss on the...\n",
      "3     RC  over and shut offthe motor. I can hear the riv...\n",
      "4     RC  in the back of Field andStream for live black ...\n"
     ]
    }
   ],
   "source": [
    "word_data = {'author':'RC','text': string_word_data}\n",
    "df_word_JJ = pd.DataFrame(word_data)\n",
    "print(df_word_JJ.head())\n",
    "\n",
    "with open (r\"C:\\Users\\wangtao\\Desktop\\word_data_RC.csv\",'w')as f:\n",
    "    df_word_JJ.to_csv(f)"
   ]
  },
  {
   "cell_type": "code",
   "execution_count": null,
   "metadata": {},
   "outputs": [],
   "source": []
  }
 ],
 "metadata": {
  "kernelspec": {
   "display_name": "Python 3",
   "language": "python",
   "name": "python3"
  },
  "language_info": {
   "codemirror_mode": {
    "name": "ipython",
    "version": 3
   },
   "file_extension": ".py",
   "mimetype": "text/x-python",
   "name": "python",
   "nbconvert_exporter": "python",
   "pygments_lexer": "ipython3",
   "version": "3.5.6"
  }
 },
 "nbformat": 4,
 "nbformat_minor": 2
}
