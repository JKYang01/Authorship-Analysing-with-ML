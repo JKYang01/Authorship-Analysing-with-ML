{
 "cells": [
  {
   "cell_type": "code",
   "execution_count": 109,
   "metadata": {},
   "outputs": [
    {
     "name": "stdout",
     "output_type": "stream",
     "text": [
      "CH15,JJ,LILY  the caretaker's daughter  was literally run off her feet.\n",
      "\n"
     ]
    }
   ],
   "source": [
    "with open(r'C:\\Users\\wangtao\\Desktop\\IST736project\\t1_jj\\JJ-CH15.txt', 'r') as f1:\n",
    "    sentences = []\n",
    "    lines = f1.readlines()\n",
    "    for line in lines:\n",
    "        line = line.replace(',',' ')\n",
    "        sentence = \"CH15,JJ,\"+line\n",
    "        sentences.append(sentence)\n",
    "    print(sentences[0])\n",
    "with open(r'C:\\Users\\wangtao\\Desktop\\IST736project\\JJ-CH15.csv', 'w') as outfile:\n",
    "    outfile.writelines(sentences)"
   ]
  },
  {
   "cell_type": "code",
   "execution_count": null,
   "metadata": {},
   "outputs": [],
   "source": []
  },
  {
   "cell_type": "code",
   "execution_count": 68,
   "metadata": {},
   "outputs": [
    {
     "name": "stdout",
     "output_type": "stream",
     "text": [
      "CH10,RY,WRITERS WHO WRITE about writers can easily bring on the worst kind of literary miscarriage; everybody knows that.\n",
      "\n"
     ]
    }
   ],
   "source": [
    "with open(r'C:\\Users\\wangtao\\Desktop\\IST736project\\t2_ry\\RY-CH11.txt', 'r',encoding='UTF-8') as f2:\n",
    "    sentences = []\n",
    "    lines = f2.readlines()\n",
    "    for line in lines:\n",
    "        sentence =\"CH10,RY,\"+ line\n",
    "        sentences.append(sentence)\n",
    "    print(sentences[0])\n",
    "with open(r'C:\\Users\\wangtao\\Desktop\\IST736project\\RY-CH11.csv', 'w', encoding = 'UTF-8') as outfile:\n",
    "    outfile.writelines(sentences)"
   ]
  },
  {
   "cell_type": "code",
   "execution_count": 86,
   "metadata": {},
   "outputs": [
    {
     "name": "stdout",
     "output_type": "stream",
     "text": [
      "CH17,RC,L.D.'s wife Maxine told him to get out the night she came home from work and found L.D.drunk again and being abusive to Rae their fifteen-year-old.\n",
      "\n"
     ]
    }
   ],
   "source": [
    "with open(r'C:\\Users\\wangtao\\Desktop\\IST736project\\t3_rc\\RC-CH17.txt', 'r',encoding='UTF-8') as f3:\n",
    "    sentences = []\n",
    "    lines = f3.readlines()\n",
    "    for line in lines:\n",
    "        sentence = \"CH17,RC,\"+line\n",
    "        sentences.append(sentence)\n",
    "    print(sentences[0])\n",
    "with open(r'C:\\Users\\wangtao\\Desktop\\IST736project\\RC-CH17.csv', 'w',encoding='UTF-8') as outfile:\n",
    "    outfile.writelines(sentences)"
   ]
  },
  {
   "cell_type": "code",
   "execution_count": 127,
   "metadata": {},
   "outputs": [],
   "source": [
    "import csv\n",
    "import os\n",
    "files = {}\n",
    "filepath = r'C:\\Users\\wangtao\\Desktop\\IST736project\\t1_csv'\n",
    "header = ['chapter','author','text']\n",
    "for filename in os.listdir(filepath):\n",
    "    if filename.endswith(\".csv\"):\n",
    "        #print(filename)\n",
    "        fpath = filepath + '/' + filename\n",
    "        with open (fpath,'a+') as csvfile:\n",
    "            writer = csv.writer(csvfile)\n",
    "            writer.writerow(header)\n",
    "        csvfile.close()\n",
    "\n",
    "\n",
    "#with open (r'C:\\Users\\wangtao\\Desktop\\IST736project\\JJ_data.csv','wb')as dstfile:\n",
    "#    writer = csv.DictWriter(dstfile, fieldnames=header)\n",
    "#    writer.writeheader() # 写入表头\n",
    "#    writer.writerows(data) # 批量写入\n",
    "#dstfile.close()\n",
    "        #with open(fpath,'r',encoding='UTF-8') as file:\n",
    "                #print(file.readlines())\n",
    "        \n",
    "#print(len(files))"
   ]
  },
  {
   "cell_type": "code",
   "execution_count": 162,
   "metadata": {},
   "outputs": [
    {
     "name": "stdout",
     "output_type": "stream",
     "text": [
      "CH14,JJ,The arc of his social rise intersected the arc of his friend's decline  but Mr.Kernan'sdecline was mitigated by the fact that certain of those friends who had known him at his highestpoint of success still esteemed him as a character.\n",
      "\n"
     ]
    }
   ],
   "source": [
    "files = {}\n",
    "data = []\n",
    "filepath1 = r'C:\\Users\\wangtao\\Desktop\\IST736project'\n",
    "for filepath in os.listdir(filepath1):\n",
    "    #print(file)\n",
    "    filepath2 = filepath1 + '/'+ filepath\n",
    "    for filename in os.listdir(filepath2):\n",
    "        if filename.endswith(\".csv\"):\n",
    "            #print(filename)\n",
    "            fpath = filepath2 + '/' + filename\n",
    "            with open(fpath,'r',encoding='latin1') as file:\n",
    "                #files[filename] = file.read()\n",
    "                lines=file.readlines()\n",
    "                for line in lines:\n",
    "                    line.replace(u'\\xa0', u' ')\n",
    "                    data.append(line)\n",
    "print(data[1000])\n",
    "with open(r'C:\\Users\\wangtao\\Desktop\\data.csv','w',encoding='utf-8')as data_file:\n",
    "    data_file.writelines(data)\n",
    "    "
   ]
  },
  {
   "cell_type": "code",
   "execution_count": null,
   "metadata": {},
   "outputs": [],
   "source": []
  },
  {
   "cell_type": "code",
   "execution_count": 171,
   "metadata": {},
   "outputs": [
    {
     "ename": "UnicodeEncodeError",
     "evalue": "'gbk' codec can't encode character '\\x80' in position 81: illegal multibyte sequence",
     "output_type": "error",
     "traceback": [
      "\u001b[1;31m---------------------------------------------------------------------------\u001b[0m",
      "\u001b[1;31mUnicodeEncodeError\u001b[0m                        Traceback (most recent call last)",
      "\u001b[1;32m<ipython-input-171-ee599143155c>\u001b[0m in \u001b[0;36m<module>\u001b[1;34m()\u001b[0m\n\u001b[0;32m      6\u001b[0m         \u001b[0mdata1\u001b[0m\u001b[1;33m.\u001b[0m\u001b[0mappend\u001b[0m\u001b[1;33m(\u001b[0m\u001b[0mline\u001b[0m\u001b[1;33m)\u001b[0m\u001b[1;33m\u001b[0m\u001b[0m\n\u001b[0;32m      7\u001b[0m \u001b[1;32mwith\u001b[0m \u001b[0mopen\u001b[0m\u001b[1;33m(\u001b[0m\u001b[1;34mr'C:\\Users\\wangtao\\Desktop\\data1.csv'\u001b[0m\u001b[1;33m,\u001b[0m\u001b[1;34m'w'\u001b[0m\u001b[1;33m)\u001b[0m\u001b[1;32mas\u001b[0m \u001b[0mdata2_file\u001b[0m\u001b[1;33m:\u001b[0m\u001b[1;33m\u001b[0m\u001b[0m\n\u001b[1;32m----> 8\u001b[1;33m     \u001b[0mdata2_file\u001b[0m\u001b[1;33m.\u001b[0m\u001b[0mwritelines\u001b[0m\u001b[1;33m(\u001b[0m\u001b[0mdata1\u001b[0m\u001b[1;33m)\u001b[0m\u001b[1;33m\u001b[0m\u001b[0m\n\u001b[0m",
      "\u001b[1;31mUnicodeEncodeError\u001b[0m: 'gbk' codec can't encode character '\\x80' in position 81: illegal multibyte sequence"
     ]
    }
   ],
   "source": [
    "data1=[]\n",
    "with open(r'C:\\Users\\wangtao\\Desktop\\data.csv',encoding ='Latin1')as data1_file:\n",
    "    lines = data1_file.readlines()\n",
    "    for line in lines:\n",
    "        line.replace(u'\\x80',u' ')\n",
    "        data1.append(line)\n",
    "with open(r'C:\\Users\\wangtao\\Desktop\\data1.csv','w')as data2_file:\n",
    "    data2_file.writelines(data1)"
   ]
  },
  {
   "cell_type": "code",
   "execution_count": null,
   "metadata": {},
   "outputs": [],
   "source": []
  }
 ],
 "metadata": {
  "kernelspec": {
   "display_name": "Python 3",
   "language": "python",
   "name": "python3"
  },
  "language_info": {
   "codemirror_mode": {
    "name": "ipython",
    "version": 3
   },
   "file_extension": ".py",
   "mimetype": "text/x-python",
   "name": "python",
   "nbconvert_exporter": "python",
   "pygments_lexer": "ipython3",
   "version": "3.5.6"
  }
 },
 "nbformat": 4,
 "nbformat_minor": 2
}
